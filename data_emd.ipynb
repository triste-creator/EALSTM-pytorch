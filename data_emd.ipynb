{
 "cells": [
  {
   "cell_type": "code",
   "execution_count": 2,
   "metadata": {},
   "outputs": [
    {
     "ename": "KeyError",
     "evalue": "-1",
     "output_type": "error",
     "traceback": [
      "\u001B[1;31m---------------------------------------------------------------------------\u001B[0m",
      "\u001B[1;31mValueError\u001B[0m                                Traceback (most recent call last)",
      "File \u001B[1;32mD:\\Anaconda\\envs\\Python3\\lib\\site-packages\\pandas\\core\\indexes\\range.py:345\u001B[0m, in \u001B[0;36mRangeIndex.get_loc\u001B[1;34m(self, key)\u001B[0m\n\u001B[0;32m    344\u001B[0m \u001B[38;5;28;01mtry\u001B[39;00m:\n\u001B[1;32m--> 345\u001B[0m     \u001B[38;5;28;01mreturn\u001B[39;00m \u001B[38;5;28;43mself\u001B[39;49m\u001B[38;5;241;43m.\u001B[39;49m\u001B[43m_range\u001B[49m\u001B[38;5;241;43m.\u001B[39;49m\u001B[43mindex\u001B[49m\u001B[43m(\u001B[49m\u001B[43mnew_key\u001B[49m\u001B[43m)\u001B[49m\n\u001B[0;32m    346\u001B[0m \u001B[38;5;28;01mexcept\u001B[39;00m \u001B[38;5;167;01mValueError\u001B[39;00m \u001B[38;5;28;01mas\u001B[39;00m err:\n",
      "\u001B[1;31mValueError\u001B[0m: -1 is not in range",
      "\nThe above exception was the direct cause of the following exception:\n",
      "\u001B[1;31mKeyError\u001B[0m                                  Traceback (most recent call last)",
      "Cell \u001B[1;32mIn[2], line 13\u001B[0m\n\u001B[0;32m     11\u001B[0m \u001B[38;5;66;03m# 创建EMD对象并进行分解\u001B[39;00m\n\u001B[0;32m     12\u001B[0m emd \u001B[38;5;241m=\u001B[39m EMD()\n\u001B[1;32m---> 13\u001B[0m IMFs \u001B[38;5;241m=\u001B[39m \u001B[43memd\u001B[49m\u001B[43m(\u001B[49m\u001B[43msignal\u001B[49m\u001B[43m)\u001B[49m\n\u001B[0;32m     15\u001B[0m \u001B[38;5;66;03m# 打印分解后的IMFs\u001B[39;00m\n\u001B[0;32m     16\u001B[0m \u001B[38;5;28;01mfor\u001B[39;00m i, IMF \u001B[38;5;129;01min\u001B[39;00m \u001B[38;5;28menumerate\u001B[39m(IMFs):\n",
      "File \u001B[1;32mD:\\Anaconda\\envs\\Python3\\lib\\site-packages\\PyEMD\\EMD.py:120\u001B[0m, in \u001B[0;36mEMD.__call__\u001B[1;34m(self, S, T, max_imf)\u001B[0m\n\u001B[0;32m    119\u001B[0m \u001B[38;5;28;01mdef\u001B[39;00m \u001B[38;5;21m__call__\u001B[39m(\u001B[38;5;28mself\u001B[39m, S: np\u001B[38;5;241m.\u001B[39mndarray, T: Optional[np\u001B[38;5;241m.\u001B[39mndarray] \u001B[38;5;241m=\u001B[39m \u001B[38;5;28;01mNone\u001B[39;00m, max_imf: \u001B[38;5;28mint\u001B[39m \u001B[38;5;241m=\u001B[39m \u001B[38;5;241m-\u001B[39m\u001B[38;5;241m1\u001B[39m) \u001B[38;5;241m-\u001B[39m\u001B[38;5;241m>\u001B[39m np\u001B[38;5;241m.\u001B[39mndarray:\n\u001B[1;32m--> 120\u001B[0m     \u001B[38;5;28;01mreturn\u001B[39;00m \u001B[38;5;28;43mself\u001B[39;49m\u001B[38;5;241;43m.\u001B[39;49m\u001B[43memd\u001B[49m\u001B[43m(\u001B[49m\u001B[43mS\u001B[49m\u001B[43m,\u001B[49m\u001B[43m \u001B[49m\u001B[43mT\u001B[49m\u001B[38;5;241;43m=\u001B[39;49m\u001B[43mT\u001B[49m\u001B[43m,\u001B[49m\u001B[43m \u001B[49m\u001B[43mmax_imf\u001B[49m\u001B[38;5;241;43m=\u001B[39;49m\u001B[43mmax_imf\u001B[49m\u001B[43m)\u001B[49m\n",
      "File \u001B[1;32mD:\\Anaconda\\envs\\Python3\\lib\\site-packages\\PyEMD\\EMD.py:858\u001B[0m, in \u001B[0;36mEMD.emd\u001B[1;34m(self, S, T, max_imf)\u001B[0m\n\u001B[0;32m    855\u001B[0m nzm \u001B[38;5;241m=\u001B[39m \u001B[38;5;28mlen\u001B[39m(indzer)\n\u001B[0;32m    857\u001B[0m \u001B[38;5;28;01mif\u001B[39;00m extNo \u001B[38;5;241m>\u001B[39m \u001B[38;5;241m2\u001B[39m:\n\u001B[1;32m--> 858\u001B[0m     max_env, min_env, eMax, eMin \u001B[38;5;241m=\u001B[39m \u001B[38;5;28;43mself\u001B[39;49m\u001B[38;5;241;43m.\u001B[39;49m\u001B[43mextract_max_min_spline\u001B[49m\u001B[43m(\u001B[49m\u001B[43mT\u001B[49m\u001B[43m,\u001B[49m\u001B[43m \u001B[49m\u001B[43mimf\u001B[49m\u001B[43m)\u001B[49m\n\u001B[0;32m    859\u001B[0m     mean[:] \u001B[38;5;241m=\u001B[39m \u001B[38;5;241m0.5\u001B[39m \u001B[38;5;241m*\u001B[39m (max_env \u001B[38;5;241m+\u001B[39m min_env)\n\u001B[0;32m    861\u001B[0m     imf_old \u001B[38;5;241m=\u001B[39m imf\u001B[38;5;241m.\u001B[39mcopy()\n",
      "File \u001B[1;32mD:\\Anaconda\\envs\\Python3\\lib\\site-packages\\PyEMD\\EMD.py:158\u001B[0m, in \u001B[0;36mEMD.extract_max_min_spline\u001B[1;34m(self, T, S)\u001B[0m\n\u001B[0;32m    154\u001B[0m     \u001B[38;5;28;01mreturn\u001B[39;00m [\u001B[38;5;241m-\u001B[39m\u001B[38;5;241m1\u001B[39m] \u001B[38;5;241m*\u001B[39m \u001B[38;5;241m4\u001B[39m  \u001B[38;5;66;03m# TODO: Fix this. Doesn't match the signature.\u001B[39;00m\n\u001B[0;32m    156\u001B[0m \u001B[38;5;66;03m#########################################\u001B[39;00m\n\u001B[0;32m    157\u001B[0m \u001B[38;5;66;03m# Extrapolation of signal (over boundaries)\u001B[39;00m\n\u001B[1;32m--> 158\u001B[0m max_extrema, min_extrema \u001B[38;5;241m=\u001B[39m \u001B[38;5;28;43mself\u001B[39;49m\u001B[38;5;241;43m.\u001B[39;49m\u001B[43mprepare_points\u001B[49m\u001B[43m(\u001B[49m\u001B[43mT\u001B[49m\u001B[43m,\u001B[49m\u001B[43m \u001B[49m\u001B[43mS\u001B[49m\u001B[43m,\u001B[49m\u001B[43m \u001B[49m\u001B[43mmax_pos\u001B[49m\u001B[43m,\u001B[49m\u001B[43m \u001B[49m\u001B[43mmax_val\u001B[49m\u001B[43m,\u001B[49m\u001B[43m \u001B[49m\u001B[43mmin_pos\u001B[49m\u001B[43m,\u001B[49m\u001B[43m \u001B[49m\u001B[43mmin_val\u001B[49m\u001B[43m)\u001B[49m\n\u001B[0;32m    160\u001B[0m _, max_spline \u001B[38;5;241m=\u001B[39m \u001B[38;5;28mself\u001B[39m\u001B[38;5;241m.\u001B[39mspline_points(T, max_extrema)\n\u001B[0;32m    161\u001B[0m _, min_spline \u001B[38;5;241m=\u001B[39m \u001B[38;5;28mself\u001B[39m\u001B[38;5;241m.\u001B[39mspline_points(T, min_extrema)\n",
      "File \u001B[1;32mD:\\Anaconda\\envs\\Python3\\lib\\site-packages\\PyEMD\\EMD.py:204\u001B[0m, in \u001B[0;36mEMD.prepare_points\u001B[1;34m(self, T, S, max_pos, max_val, min_pos, min_val)\u001B[0m\n\u001B[0;32m    202\u001B[0m     \u001B[38;5;28;01mreturn\u001B[39;00m \u001B[38;5;28mself\u001B[39m\u001B[38;5;241m.\u001B[39m_prepare_points_parabol(T, S, max_pos, max_val, min_pos, min_val)\n\u001B[0;32m    203\u001B[0m \u001B[38;5;28;01melif\u001B[39;00m \u001B[38;5;28mself\u001B[39m\u001B[38;5;241m.\u001B[39mextrema_detection \u001B[38;5;241m==\u001B[39m \u001B[38;5;124m\"\u001B[39m\u001B[38;5;124msimple\u001B[39m\u001B[38;5;124m\"\u001B[39m:\n\u001B[1;32m--> 204\u001B[0m     \u001B[38;5;28;01mreturn\u001B[39;00m \u001B[38;5;28;43mself\u001B[39;49m\u001B[38;5;241;43m.\u001B[39;49m\u001B[43m_prepare_points_simple\u001B[49m\u001B[43m(\u001B[49m\u001B[43mT\u001B[49m\u001B[43m,\u001B[49m\u001B[43m \u001B[49m\u001B[43mS\u001B[49m\u001B[43m,\u001B[49m\u001B[43m \u001B[49m\u001B[43mmax_pos\u001B[49m\u001B[43m,\u001B[49m\u001B[43m \u001B[49m\u001B[43mmax_val\u001B[49m\u001B[43m,\u001B[49m\u001B[43m \u001B[49m\u001B[43mmin_pos\u001B[49m\u001B[43m,\u001B[49m\u001B[43m \u001B[49m\u001B[43mmin_val\u001B[49m\u001B[43m)\u001B[49m\n\u001B[0;32m    205\u001B[0m \u001B[38;5;28;01melse\u001B[39;00m:\n\u001B[0;32m    206\u001B[0m     msg \u001B[38;5;241m=\u001B[39m \u001B[38;5;124m\"\u001B[39m\u001B[38;5;124mIncorrect extrema detection type. Please try: \u001B[39m\u001B[38;5;124m'\u001B[39m\u001B[38;5;124msimple\u001B[39m\u001B[38;5;124m'\u001B[39m\u001B[38;5;124m or \u001B[39m\u001B[38;5;124m'\u001B[39m\u001B[38;5;124mparabol\u001B[39m\u001B[38;5;124m'\u001B[39m\u001B[38;5;124m.\u001B[39m\u001B[38;5;124m\"\u001B[39m\n",
      "File \u001B[1;32mD:\\Anaconda\\envs\\Python3\\lib\\site-packages\\PyEMD\\EMD.py:375\u001B[0m, in \u001B[0;36mEMD._prepare_points_simple\u001B[1;34m(self, T, S, max_pos, max_val, min_pos, min_val)\u001B[0m\n\u001B[0;32m    372\u001B[0m \u001B[38;5;66;03m####################################\u001B[39;00m\n\u001B[0;32m    373\u001B[0m \u001B[38;5;66;03m# Right bound - mirror nbsym points to the right\u001B[39;00m\n\u001B[0;32m    374\u001B[0m \u001B[38;5;28;01mif\u001B[39;00m ind_max[\u001B[38;5;241m-\u001B[39m\u001B[38;5;241m1\u001B[39m] \u001B[38;5;241m<\u001B[39m ind_min[\u001B[38;5;241m-\u001B[39m\u001B[38;5;241m1\u001B[39m]:\n\u001B[1;32m--> 375\u001B[0m     \u001B[38;5;28;01mif\u001B[39;00m \u001B[43mS\u001B[49m\u001B[43m[\u001B[49m\u001B[38;5;241;43m-\u001B[39;49m\u001B[38;5;241;43m1\u001B[39;49m\u001B[43m]\u001B[49m \u001B[38;5;241m<\u001B[39m S[ind_max[\u001B[38;5;241m-\u001B[39m\u001B[38;5;241m1\u001B[39m]]:\n\u001B[0;32m    376\u001B[0m         rmax \u001B[38;5;241m=\u001B[39m ind_max[\u001B[38;5;28mmax\u001B[39m(end_max \u001B[38;5;241m-\u001B[39m nbsym, \u001B[38;5;241m0\u001B[39m) :][::\u001B[38;5;241m-\u001B[39m\u001B[38;5;241m1\u001B[39m]\n\u001B[0;32m    377\u001B[0m         rmin \u001B[38;5;241m=\u001B[39m ind_min[\u001B[38;5;28mmax\u001B[39m(end_min \u001B[38;5;241m-\u001B[39m nbsym \u001B[38;5;241m-\u001B[39m \u001B[38;5;241m1\u001B[39m, \u001B[38;5;241m0\u001B[39m) : \u001B[38;5;241m-\u001B[39m\u001B[38;5;241m1\u001B[39m][::\u001B[38;5;241m-\u001B[39m\u001B[38;5;241m1\u001B[39m]\n",
      "File \u001B[1;32mD:\\Anaconda\\envs\\Python3\\lib\\site-packages\\pandas\\core\\series.py:1007\u001B[0m, in \u001B[0;36mSeries.__getitem__\u001B[1;34m(self, key)\u001B[0m\n\u001B[0;32m   1004\u001B[0m     \u001B[38;5;28;01mreturn\u001B[39;00m \u001B[38;5;28mself\u001B[39m\u001B[38;5;241m.\u001B[39m_values[key]\n\u001B[0;32m   1006\u001B[0m \u001B[38;5;28;01melif\u001B[39;00m key_is_scalar:\n\u001B[1;32m-> 1007\u001B[0m     \u001B[38;5;28;01mreturn\u001B[39;00m \u001B[38;5;28;43mself\u001B[39;49m\u001B[38;5;241;43m.\u001B[39;49m\u001B[43m_get_value\u001B[49m\u001B[43m(\u001B[49m\u001B[43mkey\u001B[49m\u001B[43m)\u001B[49m\n\u001B[0;32m   1009\u001B[0m \u001B[38;5;28;01mif\u001B[39;00m is_hashable(key):\n\u001B[0;32m   1010\u001B[0m     \u001B[38;5;66;03m# Otherwise index.get_value will raise InvalidIndexError\u001B[39;00m\n\u001B[0;32m   1011\u001B[0m     \u001B[38;5;28;01mtry\u001B[39;00m:\n\u001B[0;32m   1012\u001B[0m         \u001B[38;5;66;03m# For labels that don't resolve as scalars like tuples and frozensets\u001B[39;00m\n",
      "File \u001B[1;32mD:\\Anaconda\\envs\\Python3\\lib\\site-packages\\pandas\\core\\series.py:1116\u001B[0m, in \u001B[0;36mSeries._get_value\u001B[1;34m(self, label, takeable)\u001B[0m\n\u001B[0;32m   1113\u001B[0m     \u001B[38;5;28;01mreturn\u001B[39;00m \u001B[38;5;28mself\u001B[39m\u001B[38;5;241m.\u001B[39m_values[label]\n\u001B[0;32m   1115\u001B[0m \u001B[38;5;66;03m# Similar to Index.get_value, but we do not fall back to positional\u001B[39;00m\n\u001B[1;32m-> 1116\u001B[0m loc \u001B[38;5;241m=\u001B[39m \u001B[38;5;28;43mself\u001B[39;49m\u001B[38;5;241;43m.\u001B[39;49m\u001B[43mindex\u001B[49m\u001B[38;5;241;43m.\u001B[39;49m\u001B[43mget_loc\u001B[49m\u001B[43m(\u001B[49m\u001B[43mlabel\u001B[49m\u001B[43m)\u001B[49m\n\u001B[0;32m   1118\u001B[0m \u001B[38;5;28;01mif\u001B[39;00m is_integer(loc):\n\u001B[0;32m   1119\u001B[0m     \u001B[38;5;28;01mreturn\u001B[39;00m \u001B[38;5;28mself\u001B[39m\u001B[38;5;241m.\u001B[39m_values[loc]\n",
      "File \u001B[1;32mD:\\Anaconda\\envs\\Python3\\lib\\site-packages\\pandas\\core\\indexes\\range.py:347\u001B[0m, in \u001B[0;36mRangeIndex.get_loc\u001B[1;34m(self, key)\u001B[0m\n\u001B[0;32m    345\u001B[0m         \u001B[38;5;28;01mreturn\u001B[39;00m \u001B[38;5;28mself\u001B[39m\u001B[38;5;241m.\u001B[39m_range\u001B[38;5;241m.\u001B[39mindex(new_key)\n\u001B[0;32m    346\u001B[0m     \u001B[38;5;28;01mexcept\u001B[39;00m \u001B[38;5;167;01mValueError\u001B[39;00m \u001B[38;5;28;01mas\u001B[39;00m err:\n\u001B[1;32m--> 347\u001B[0m         \u001B[38;5;28;01mraise\u001B[39;00m \u001B[38;5;167;01mKeyError\u001B[39;00m(key) \u001B[38;5;28;01mfrom\u001B[39;00m \u001B[38;5;21;01merr\u001B[39;00m\n\u001B[0;32m    348\u001B[0m \u001B[38;5;28;01mif\u001B[39;00m \u001B[38;5;28misinstance\u001B[39m(key, Hashable):\n\u001B[0;32m    349\u001B[0m     \u001B[38;5;28;01mraise\u001B[39;00m \u001B[38;5;167;01mKeyError\u001B[39;00m(key)\n",
      "\u001B[1;31mKeyError\u001B[0m: -1"
     ]
    }
   ],
   "source": [
    "#测试对数据集使用EMD分解\n",
    "import pandas as pd\n",
    "from PyEMD import EMD\n",
    "\n",
    "# 从CSV文件中读取数据\n",
    "data = pd.read_csv('data/China_carbon.csv')\n",
    "\n",
    "# 假设CSV文件中有多列数据，选择其中一列进行EMD分解\n",
    "signal = data.iloc[:, 0]\n",
    "\n",
    "# 创建EMD对象并进行分解\n",
    "emd = EMD()\n",
    "IMFs = emd(signal)\n",
    "\n",
    "# 打印分解后的IMFs\n",
    "for i, IMF in enumerate(IMFs):\n",
    "    print(f'IMF {i+1}: {IMF}')\n"
   ]
  }
 ],
 "metadata": {
  "kernelspec": {
   "display_name": "Python 3 (ipykernel)",
   "language": "python",
   "name": "python3"
  },
  "language_info": {
   "codemirror_mode": {
    "name": "ipython",
    "version": 3
   },
   "file_extension": ".py",
   "mimetype": "text/x-python",
   "name": "python",
   "nbconvert_exporter": "python",
   "pygments_lexer": "ipython3",
   "version": "3.8.16"
  }
 },
 "nbformat": 4,
 "nbformat_minor": 4
}